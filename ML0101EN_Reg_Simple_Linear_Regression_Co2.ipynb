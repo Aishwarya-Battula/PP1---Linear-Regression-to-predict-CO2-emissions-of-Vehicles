
    {
      "cell_type": "markdown",
      "metadata": {
        "button": false,
        "new_sheet": false,
        "run_control": {
          "read_only": false
        },
        "id": "lbtQAppyBO9p"
      },
      "source": [
        "### Importing Needed packages\n"
      ]
    },
    {
      "cell_type": "code",
      "metadata": {
        "button": false,
        "new_sheet": false,
        "run_control": {
          "read_only": false
        },
        "id": "S_s73RizBO9q"
      },
      "source": [
        "import matplotlib.pyplot as plt\n",
        "import pandas as pd\n",
        "import pylab as pl\n",
        "import numpy as np\n",
        "%matplotlib inline"
      ],
      "execution_count": null,
      "outputs": []
    },
    {
      "cell_type": "markdown",
      "metadata": {
        "button": false,
        "new_sheet": false,
        "run_control": {
          "read_only": false
        },
        "id": "ouyyDhjCBO9q"
      },
      "source": [
        "### Downloading Data\n",
        "\n",
        "To download the data, we will use !wget to download it from IBM Object Storage.\n"
      ]
    },
    {
      "cell_type": "code",
      "metadata": {
        "button": false,
        "new_sheet": false,
        "run_control": {
          "read_only": false
        },
        "id": "1YE0TsyEBO9r"
      },
      "source": [
        "!wget -O FuelConsumption.csv https://cf-courses-data.s3.us.cloud-object-storage.appdomain.cloud/IBMDeveloperSkillsNetwork-ML0101EN-SkillsNetwork/labs/Module%202/data/FuelConsumptionCo2.csv"
      ],
      "execution_count": null,
      "outputs": []
    },
    {
      "cell_type": "markdown",
      "metadata": {
        "id": "DsBbXTunBO9r"
      },
      "source": [
        "**Did you know?** When it comes to Machine Learning, you will likely be working with large datasets. As a business, where can you host your data? IBM is offering a unique opportunity for businesses, with 10 Tb of IBM Cloud Object Storage: [Sign up now for free](http://cocl.us/ML0101EN-IBM-Offer-CC)\n"
      ]
    },
    {
      "cell_type": "markdown",
      "metadata": {
        "button": false,
        "new_sheet": false,
        "run_control": {
          "read_only": false
        },
        "id": "I-Yb865vBO9r"
      },
      "source": [
        "## Understanding the Data\n",
        "\n",
        "### `FuelConsumption.csv`:\n",
        "\n",
        "We have downloaded a fuel consumption dataset, **`FuelConsumption.csv`**, which contains model-specific fuel consumption ratings and estimated carbon dioxide emissions for new light-duty vehicles for retail sale in Canada. [Dataset source](http://open.canada.ca/data/en/dataset/98f1a129-f628-4ce4-b24d-6f16bf24dd64?utm_medium=Exinfluencer\\&utm_source=Exinfluencer\\&utm_content=000026UJ\\&utm_term=10006555\\&utm_id=NA-SkillsNetwork-Channel-SkillsNetworkCoursesIBMDeveloperSkillsNetworkML0101ENSkillsNetwork20718538-2021-01-01)\n",
        "\n",
        "*   **MODELYEAR** e.g. 2014\n",
        "*   **MAKE** e.g. Acura\n",
        "*   **MODEL** e.g. ILX\n",
        "*   **VEHICLE CLASS** e.g. SUV\n",
        "*   **ENGINE SIZE** e.g. 4.7\n",
        "*   **CYLINDERS** e.g 6\n",
        "*   **TRANSMISSION** e.g. A6\n",
        "*   **FUEL CONSUMPTION in CITY(L/100 km)** e.g. 9.9\n",
        "*   **FUEL CONSUMPTION in HWY (L/100 km)** e.g. 8.9\n",
        "*   **FUEL CONSUMPTION COMB (L/100 km)** e.g. 9.2\n",
        "*   **CO2 EMISSIONS (g/km)** e.g. 182   --> low --> 0\n"
      ]
    },
    {
      "cell_type": "markdown",
      "metadata": {
        "button": false,
        "new_sheet": false,
        "run_control": {
          "read_only": false
        },
        "id": "wK707A-7BO9s"
      },
      "source": [
        "## Reading the data in\n"
      ]
    },
    {
      "cell_type": "code",
      "metadata": {
        "button": false,
        "new_sheet": false,
        "run_control": {
          "read_only": false
        },
        "colab": {
          "base_uri": "https://localhost:8080/",
          "height": 274
        },
        "id": "s-qjhCl1BO9s",
        "outputId": "ff5cfa88-3ced-4441-9fc4-e0526c0c3d51"
      },
      "source": [
        "df = pd.read_csv(\"FuelConsumptionCo2.csv\")\n",
        "\n",
        "# take a look at the dataset\n",
        "df.head()\n",
        "\n"
      ],
      "execution_count": null,
      "outputs": [
        {
          "output_type": "execute_result",
          "data": {
            "text/html": [
              "<div>\n",
              "<style scoped>\n",
              "    .dataframe tbody tr th:only-of-type {\n",
              "        vertical-align: middle;\n",
              "    }\n",
              "\n",
              "    .dataframe tbody tr th {\n",
              "        vertical-align: top;\n",
              "    }\n",
              "\n",
              "    .dataframe thead th {\n",
              "        text-align: right;\n",
              "    }\n",
              "</style>\n",
              "<table border=\"1\" class=\"dataframe\">\n",
              "  <thead>\n",
              "    <tr style=\"text-align: right;\">\n",
              "      <th></th>\n",
              "      <th>MODELYEAR</th>\n",
              "      <th>MAKE</th>\n",
              "      <th>MODEL</th>\n",
              "      <th>VEHICLECLASS</th>\n",
              "      <th>ENGINESIZE</th>\n",
              "      <th>CYLINDERS</th>\n",
              "      <th>TRANSMISSION</th>\n",
              "      <th>FUELTYPE</th>\n",
              "      <th>FUELCONSUMPTION_CITY</th>\n",
              "      <th>FUELCONSUMPTION_HWY</th>\n",
              "      <th>FUELCONSUMPTION_COMB</th>\n",
              "      <th>FUELCONSUMPTION_COMB_MPG</th>\n",
              "      <th>CO2EMISSIONS</th>\n",
              "    </tr>\n",
              "  </thead>\n",
              "  <tbody>\n",
              "    <tr>\n",
              "      <th>0</th>\n",
              "      <td>2014</td>\n",
              "      <td>ACURA</td>\n",
              "      <td>ILX</td>\n",
              "      <td>COMPACT</td>\n",
              "      <td>2.0</td>\n",
              "      <td>4</td>\n",
              "      <td>AS5</td>\n",
              "      <td>Z</td>\n",
              "      <td>9.9</td>\n",
              "      <td>6.7</td>\n",
              "      <td>8.5</td>\n",
              "      <td>33</td>\n",
              "      <td>196</td>\n",
              "    </tr>\n",
              "    <tr>\n",
              "      <th>1</th>\n",
              "      <td>2014</td>\n",
              "      <td>ACURA</td>\n",
              "      <td>ILX</td>\n",
              "      <td>COMPACT</td>\n",
              "      <td>2.4</td>\n",
              "      <td>4</td>\n",
              "      <td>M6</td>\n",
              "      <td>Z</td>\n",
              "      <td>11.2</td>\n",
              "      <td>7.7</td>\n",
              "      <td>9.6</td>\n",
              "      <td>29</td>\n",
              "      <td>221</td>\n",
              "    </tr>\n",
              "    <tr>\n",
              "      <th>2</th>\n",
              "      <td>2014</td>\n",
              "      <td>ACURA</td>\n",
              "      <td>ILX HYBRID</td>\n",
              "      <td>COMPACT</td>\n",
              "      <td>1.5</td>\n",
              "      <td>4</td>\n",
              "      <td>AV7</td>\n",
              "      <td>Z</td>\n",
              "      <td>6.0</td>\n",
              "      <td>5.8</td>\n",
              "      <td>5.9</td>\n",
              "      <td>48</td>\n",
              "      <td>136</td>\n",
              "    </tr>\n",
              "    <tr>\n",
              "      <th>3</th>\n",
              "      <td>2014</td>\n",
              "      <td>ACURA</td>\n",
              "      <td>MDX 4WD</td>\n",
              "      <td>SUV - SMALL</td>\n",
              "      <td>3.5</td>\n",
              "      <td>6</td>\n",
              "      <td>AS6</td>\n",
              "      <td>Z</td>\n",
              "      <td>12.7</td>\n",
              "      <td>9.1</td>\n",
              "      <td>11.1</td>\n",
              "      <td>25</td>\n",
              "      <td>255</td>\n",
              "    </tr>\n",
              "    <tr>\n",
              "      <th>4</th>\n",
              "      <td>2014</td>\n",
              "      <td>ACURA</td>\n",
              "      <td>RDX AWD</td>\n",
              "      <td>SUV - SMALL</td>\n",
              "      <td>3.5</td>\n",
              "      <td>6</td>\n",
              "      <td>AS6</td>\n",
              "      <td>Z</td>\n",
              "      <td>12.1</td>\n",
              "      <td>8.7</td>\n",
              "      <td>10.6</td>\n",
              "      <td>27</td>\n",
              "      <td>244</td>\n",
              "    </tr>\n",
              "  </tbody>\n",
              "</table>\n",
              "</div>"
            ],
            "text/plain": [
              "   MODELYEAR   MAKE  ... FUELCONSUMPTION_COMB_MPG CO2EMISSIONS\n",
              "0       2014  ACURA  ...                       33          196\n",
              "1       2014  ACURA  ...                       29          221\n",
              "2       2014  ACURA  ...                       48          136\n",
              "3       2014  ACURA  ...                       25          255\n",
              "4       2014  ACURA  ...                       27          244\n",
              "\n",
              "[5 rows x 13 columns]"
            ]
          },
          "metadata": {
            "tags": []
          },
          "execution_count": 8
        }
      ]
    },
    {
      "cell_type": "markdown",
      "metadata": {
        "button": false,
        "new_sheet": false,
        "run_control": {
          "read_only": false
        },
        "id": "RuU9vgZ3BO9t"
      },
      "source": [
        "### Data Exploration\n",
        "\n",
        "Let's first have a descriptive exploration on our data.\n"
      ]
    },
    {
      "cell_type": "code",
      "metadata": {
        "button": false,
        "new_sheet": false,
        "run_control": {
          "read_only": false
        },
        "colab": {
          "base_uri": "https://localhost:8080/",
          "height": 296
        },
        "id": "RSj4ermABO9t",
        "outputId": "d30e96f7-45ac-400d-f245-7f90f17685c5"
      },
      "source": [
        "# summarize the data\n",
        "df.describe()"
      ],
      "execution_count": null,
      "outputs": [
        {
          "output_type": "execute_result",
          "data": {
            "text/html": [
              "<div>\n",
              "<style scoped>\n",
              "    .dataframe tbody tr th:only-of-type {\n",
              "        vertical-align: middle;\n",
              "    }\n",
              "\n",
              "    .dataframe tbody tr th {\n",
              "        vertical-align: top;\n",
              "    }\n",
              "\n",
              "    .dataframe thead th {\n",
              "        text-align: right;\n",
              "    }\n",
              "</style>\n",
              "<table border=\"1\" class=\"dataframe\">\n",
              "  <thead>\n",
              "    <tr style=\"text-align: right;\">\n",
              "      <th></th>\n",
              "      <th>MODELYEAR</th>\n",
              "      <th>ENGINESIZE</th>\n",
              "      <th>CYLINDERS</th>\n",
              "      <th>FUELCONSUMPTION_CITY</th>\n",
              "      <th>FUELCONSUMPTION_HWY</th>\n",
              "      <th>FUELCONSUMPTION_COMB</th>\n",
              "      <th>FUELCONSUMPTION_COMB_MPG</th>\n",
              "      <th>CO2EMISSIONS</th>\n",
              "    </tr>\n",
              "  </thead>\n",
              "  <tbody>\n",
              "    <tr>\n",
              "      <th>count</th>\n",
              "      <td>1067.0</td>\n",
              "      <td>1067.000000</td>\n",
              "      <td>1067.000000</td>\n",
              "      <td>1067.000000</td>\n",
              "      <td>1067.000000</td>\n",
              "      <td>1067.000000</td>\n",
              "      <td>1067.000000</td>\n",
              "      <td>1067.000000</td>\n",
              "    </tr>\n",
              "    <tr>\n",
              "      <th>mean</th>\n",
              "      <td>2014.0</td>\n",
              "      <td>3.346298</td>\n",
              "      <td>5.794752</td>\n",
              "      <td>13.296532</td>\n",
              "      <td>9.474602</td>\n",
              "      <td>11.580881</td>\n",
              "      <td>26.441425</td>\n",
              "      <td>256.228679</td>\n",
              "    </tr>\n",
              "    <tr>\n",
              "      <th>std</th>\n",
              "      <td>0.0</td>\n",
              "      <td>1.415895</td>\n",
              "      <td>1.797447</td>\n",
              "      <td>4.101253</td>\n",
              "      <td>2.794510</td>\n",
              "      <td>3.485595</td>\n",
              "      <td>7.468702</td>\n",
              "      <td>63.372304</td>\n",
              "    </tr>\n",
              "    <tr>\n",
              "      <th>min</th>\n",
              "      <td>2014.0</td>\n",
              "      <td>1.000000</td>\n",
              "      <td>3.000000</td>\n",
              "      <td>4.600000</td>\n",
              "      <td>4.900000</td>\n",
              "      <td>4.700000</td>\n",
              "      <td>11.000000</td>\n",
              "      <td>108.000000</td>\n",
              "    </tr>\n",
              "    <tr>\n",
              "      <th>25%</th>\n",
              "      <td>2014.0</td>\n",
              "      <td>2.000000</td>\n",
              "      <td>4.000000</td>\n",
              "      <td>10.250000</td>\n",
              "      <td>7.500000</td>\n",
              "      <td>9.000000</td>\n",
              "      <td>21.000000</td>\n",
              "      <td>207.000000</td>\n",
              "    </tr>\n",
              "    <tr>\n",
              "      <th>50%</th>\n",
              "      <td>2014.0</td>\n",
              "      <td>3.400000</td>\n",
              "      <td>6.000000</td>\n",
              "      <td>12.600000</td>\n",
              "      <td>8.800000</td>\n",
              "      <td>10.900000</td>\n",
              "      <td>26.000000</td>\n",
              "      <td>251.000000</td>\n",
              "    </tr>\n",
              "    <tr>\n",
              "      <th>75%</th>\n",
              "      <td>2014.0</td>\n",
              "      <td>4.300000</td>\n",
              "      <td>8.000000</td>\n",
              "      <td>15.550000</td>\n",
              "      <td>10.850000</td>\n",
              "      <td>13.350000</td>\n",
              "      <td>31.000000</td>\n",
              "      <td>294.000000</td>\n",
              "    </tr>\n",
              "    <tr>\n",
              "      <th>max</th>\n",
              "      <td>2014.0</td>\n",
              "      <td>8.400000</td>\n",
              "      <td>12.000000</td>\n",
              "      <td>30.200000</td>\n",
              "      <td>20.500000</td>\n",
              "      <td>25.800000</td>\n",
              "      <td>60.000000</td>\n",
              "      <td>488.000000</td>\n",
              "    </tr>\n",
              "  </tbody>\n",
              "</table>\n",
              "</div>"
            ],
            "text/plain": [
              "       MODELYEAR   ENGINESIZE  ...  FUELCONSUMPTION_COMB_MPG  CO2EMISSIONS\n",
              "count     1067.0  1067.000000  ...               1067.000000   1067.000000\n",
              "mean      2014.0     3.346298  ...                 26.441425    256.228679\n",
              "std          0.0     1.415895  ...                  7.468702     63.372304\n",
              "min       2014.0     1.000000  ...                 11.000000    108.000000\n",
              "25%       2014.0     2.000000  ...                 21.000000    207.000000\n",
              "50%       2014.0     3.400000  ...                 26.000000    251.000000\n",
              "75%       2014.0     4.300000  ...                 31.000000    294.000000\n",
              "max       2014.0     8.400000  ...                 60.000000    488.000000\n",
              "\n",
              "[8 rows x 8 columns]"
            ]
          },
          "metadata": {
            "tags": []
          },
          "execution_count": 5
        }
      ]
    },
    {
      "cell_type": "markdown",
      "metadata": {
        "id": "u2uRHQj7BO9t"
      },
      "source": [
        "Let's select some features to explore more.\n"
      ]
    },
    {
      "cell_type": "code",
      "metadata": {
        "button": false,
        "new_sheet": false,
        "run_control": {
          "read_only": false
        },
        "colab": {
          "base_uri": "https://localhost:8080/",
          "height": 327
        },
        "id": "Kna9iEAjBO9t",
        "outputId": "4998fa50-73d4-4cff-eafc-582d3c8b9f91"
      },
      "source": [
        "cdf = df[['ENGINESIZE','CYLINDERS','FUELCONSUMPTION_COMB','CO2EMISSIONS']]\n",
        "cdf.head(9)"
      ],
      "execution_count": null,
      "outputs": [
        {
          "output_type": "execute_result",
          "data": {
            "text/html": [
              "<div>\n",
              "<style scoped>\n",
              "    .dataframe tbody tr th:only-of-type {\n",
              "        vertical-align: middle;\n",
              "    }\n",
              "\n",
              "    .dataframe tbody tr th {\n",
              "        vertical-align: top;\n",
              "    }\n",
              "\n",
              "    .dataframe thead th {\n",
              "        text-align: right;\n",
              "    }\n",
              "</style>\n",
              "<table border=\"1\" class=\"dataframe\">\n",
              "  <thead>\n",
              "    <tr style=\"text-align: right;\">\n",
              "      <th></th>\n",
              "      <th>ENGINESIZE</th>\n",
              "      <th>CYLINDERS</th>\n",
              "      <th>FUELCONSUMPTION_COMB</th>\n",
              "      <th>CO2EMISSIONS</th>\n",
              "    </tr>\n",
              "  </thead>\n",
              "  <tbody>\n",
              "    <tr>\n",
              "      <th>0</th>\n",
              "      <td>2.0</td>\n",
              "      <td>4</td>\n",
              "      <td>8.5</td>\n",
              "      <td>196</td>\n",
              "    </tr>\n",
              "    <tr>\n",
              "      <th>1</th>\n",
              "      <td>2.4</td>\n",
              "      <td>4</td>\n",
              "      <td>9.6</td>\n",
              "      <td>221</td>\n",
              "    </tr>\n",
              "    <tr>\n",
              "      <th>2</th>\n",
              "      <td>1.5</td>\n",
              "      <td>4</td>\n",
              "      <td>5.9</td>\n",
              "      <td>136</td>\n",
              "    </tr>\n",
              "    <tr>\n",
              "      <th>3</th>\n",
              "      <td>3.5</td>\n",
              "      <td>6</td>\n",
              "      <td>11.1</td>\n",
              "      <td>255</td>\n",
              "    </tr>\n",
              "    <tr>\n",
              "      <th>4</th>\n",
              "      <td>3.5</td>\n",
              "      <td>6</td>\n",
              "      <td>10.6</td>\n",
              "      <td>244</td>\n",
              "    </tr>\n",
              "    <tr>\n",
              "      <th>5</th>\n",
              "      <td>3.5</td>\n",
              "      <td>6</td>\n",
              "      <td>10.0</td>\n",
              "      <td>230</td>\n",
              "    </tr>\n",
              "    <tr>\n",
              "      <th>6</th>\n",
              "      <td>3.5</td>\n",
              "      <td>6</td>\n",
              "      <td>10.1</td>\n",
              "      <td>232</td>\n",
              "    </tr>\n",
              "    <tr>\n",
              "      <th>7</th>\n",
              "      <td>3.7</td>\n",
              "      <td>6</td>\n",
              "      <td>11.1</td>\n",
              "      <td>255</td>\n",
              "    </tr>\n",
              "    <tr>\n",
              "      <th>8</th>\n",
              "      <td>3.7</td>\n",
              "      <td>6</td>\n",
              "      <td>11.6</td>\n",
              "      <td>267</td>\n",
              "    </tr>\n",
              "  </tbody>\n",
              "</table>\n",
              "</div>"
            ],
            "text/plain": [
              "   ENGINESIZE  CYLINDERS  FUELCONSUMPTION_COMB  CO2EMISSIONS\n",
              "0         2.0          4                   8.5           196\n",
              "1         2.4          4                   9.6           221\n",
              "2         1.5          4                   5.9           136\n",
              "3         3.5          6                  11.1           255\n",
              "4         3.5          6                  10.6           244\n",
              "5         3.5          6                  10.0           230\n",
              "6         3.5          6                  10.1           232\n",
              "7         3.7          6                  11.1           255\n",
              "8         3.7          6                  11.6           267"
            ]
          },
          "metadata": {
            "tags": []
          },
          "execution_count": 6
        }
      ]
    },
    {
      "cell_type": "markdown",
      "metadata": {
        "id": "lFZGbZnABO9u"
      },
      "source": [
        "We can plot each of these features:\n"
      ]
    },
    {
      "cell_type": "code",
      "metadata": {
        "button": false,
        "new_sheet": false,
        "run_control": {
          "read_only": false
        },
        "colab": {
          "base_uri": "https://localhost:8080/",
          "height": 281
        },
        "id": "yFCSw9KqBO9u",
        "outputId": "85cfb691-faa5-4165-f0b5-e3762e6c7c34"
      },
      "source": [
        "viz = cdf[['CYLINDERS','ENGINESIZE','CO2EMISSIONS','FUELCONSUMPTION_COMB']]\n",
        "viz.hist()\n",
        "plt.show()"
      ],
      "execution_count": null,
      "outputs": [
        {
          "output_type": "display_data",
          "data": {
            "image/png": "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\n",
            "text/plain": [
              "<Figure size 432x288 with 4 Axes>"
            ]
          },
          "metadata": {
            "tags": [],
            "needs_background": "light"
          }
        }
      ]
    },
    {
      "cell_type": "markdown",
      "metadata": {
        "id": "AmRg-IB3BO9v"
      },
      "source": [
        "Now, let's plot each of these features against the Emission, to see how linear their relationship is:\n"
      ]
    },
    {
      "cell_type": "code",
      "metadata": {
        "button": false,
        "new_sheet": false,
        "run_control": {
          "read_only": false
        },
        "colab": {
          "base_uri": "https://localhost:8080/",
          "height": 281
        },
        "id": "llM8qWcCBO9v",
        "outputId": "e7d68e96-466e-483e-d54e-9b8f6276ca1a"
      },
      "source": [
        "plt.scatter(cdf.FUELCONSUMPTION_COMB, cdf.CO2EMISSIONS,  color='blue')\n",
        "plt.xlabel(\"FUELCONSUMPTION_COMB\")\n",
        "plt.ylabel(\"Emission\")\n",
        "plt.show()"
      ],
      "execution_count": null,
      "outputs": [
        {
          "output_type": "display_data",
          "data": {
            "image/png": "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\n",
            "text/plain": [
              "<Figure size 432x288 with 1 Axes>"
            ]
          },
          "metadata": {
            "tags": [],
            "needs_background": "light"
          }
        }
      ]
    },
    {
      "cell_type": "code",
      "metadata": {
        "button": false,
        "new_sheet": false,
        "run_control": {
          "read_only": false
        },
        "scrolled": true,
        "colab": {
          "base_uri": "https://localhost:8080/",
          "height": 280
        },
        "id": "Is_GNXwtBO9w",
        "outputId": "09a1430a-6eaf-4da3-b6ef-746c12e19991"
      },
      "source": [
        "plt.scatter(cdf.ENGINESIZE, cdf.CO2EMISSIONS,  color='blue')\n",
        "plt.xlabel(\"Engine size\")\n",
        "plt.ylabel(\"Emission\")\n",
        "plt.show()"
      ],
      "execution_count": null,
      "outputs": [
        {
          "output_type": "display_data",
          "data": {
            "image/png": "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\n",
            "text/plain": [
              "<Figure size 432x288 with 1 Axes>"
            ]
          },
          "metadata": {
            "tags": [],
            "needs_background": "light"
          }
        }
      ]
    },
    {
      "cell_type": "markdown",
      "metadata": {
        "id": "52zssQpXBO9x"
      },
      "source": [
        "## Practice\n",
        "\n",
        "Plot **CYLINDER** vs the Emission, to see how linear is their relationship is:\n"
      ]
    },
    {
      "cell_type": "code",
      "metadata": {
        "button": false,
        "new_sheet": false,
        "run_control": {
          "read_only": false
        },
        "colab": {
          "base_uri": "https://localhost:8080/",
          "height": 280
        },
        "id": "MZkeEb7NBO9y",
        "outputId": "08c8b4a3-c0b7-4cfa-a631-7f9cf43d004b"
      },
      "source": [
        "# write your code here\n",
        "plt.scatter(cdf.CYLINDERS, cdf.CO2EMISSIONS,  color='blue')\n",
        "plt.xlabel(\"Cylinders\")\n",
        "plt.ylabel(\"Emission\")\n",
        "plt.show()\n",
        "\n"
      ],
      "execution_count": null,
      "outputs": [
        {
          "output_type": "display_data",
          "data": {
            "image/png": "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\n",
            "text/plain": [
              "<Figure size 432x288 with 1 Axes>"
            ]
          },
          "metadata": {
            "tags": [],
            "needs_background": "light"
          }
        }
      ]
    },
    {
      "cell_type": "markdown",
      "metadata": {
        "id": "m2TMVjMWBO9y"
      },
      "source": [
        "<details><summary>Click here for the solution</summary>\n",
        "\n",
        "```python\n",
        "plt.scatter(cdf.CYLINDERS, cdf.CO2EMISSIONS, color='blue')\n",
        "plt.xlabel(\"Cylinders\")\n",
        "plt.ylabel(\"Emission\")\n",
        "plt.show()\n",
        "\n",
        "```\n",
        "\n",
        "</details>\n"
      ]
    },
    {
      "cell_type": "markdown",
      "metadata": {
        "button": false,
        "new_sheet": false,
        "run_control": {
          "read_only": false
        },
        "id": "A3pEQnIgBO9z"
      },
      "source": [
        "#### Creating train and test dataset\n",
        "\n",
        "Train/Test Split involves splitting the dataset into training and testing sets that are mutually exclusive. After which, you train with the training set and test with the testing set.\n",
        "This will provide a more accurate evaluation on out-of-sample accuracy because the testing dataset is not part of the dataset that have been used to train the model. Therefore, it gives us a better understanding of how well our model generalizes on new data.\n",
        "\n",
        "This means that we know the outcome of each data point in the testing dataset, making it great to test with! Since this data has not been used to train the model, the model has no knowledge of the outcome of these data points. So, in essence, it is truly an out-of-sample testing.\n",
        "\n",
        "Let's split our dataset into train and test sets. 80% of the entire dataset will be used for training and 20% for testing. We create a mask to select random rows using **np.random.rand()** function:\n"
      ]
    },
    {
      "cell_type": "code",
      "metadata": {
        "button": false,
        "new_sheet": false,
        "run_control": {
          "read_only": false
        },
        "colab": {
          "base_uri": "https://localhost:8080/"
        },
        "id": "zejhKh2gBO92",
        "outputId": "0ec93659-1701-47ec-e355-55c3958a5d9c"
      },
      "source": [
        "msk = np.random.rand(len(df)) < 0.76\n",
        "train = cdf[msk]\n",
        "test = cdf[~msk]\n",
        "print(len(train),len(test))"
      ],
      "execution_count": null,
      "outputs": [
        {
          "output_type": "stream",
          "text": [
            "837 230\n"
          ],
          "name": "stdout"
        }
      ]
    },
    {
      "cell_type": "markdown",
      "metadata": {
        "button": false,
        "new_sheet": false,
        "run_control": {
          "read_only": false
        },
        "id": "bWQbd9DdBO92"
      },
      "source": [
        "### Simple Regression Model\n",
        "\n",
        "Linear Regression fits a linear model with coefficients B = (B1, ..., Bn) to minimize the 'residual sum of squares' between the actual value y in the dataset, and the predicted value yhat using linear approximation.\n"
      ]
    },
    {
      "cell_type": "markdown",
      "metadata": {
        "button": false,
        "new_sheet": false,
        "run_control": {
          "read_only": false
        },
        "id": "bRhuWtVNBO93"
      },
      "source": [
        "#### Train data distribution\n"
      ]
    },
    {
      "cell_type": "code",
      "metadata": {
        "button": false,
        "new_sheet": false,
        "run_control": {
          "read_only": false
        },
        "colab": {
          "base_uri": "https://localhost:8080/",
          "height": 280
        },
        "id": "vIEGBqTvBO93",
        "outputId": "7f777338-1f4b-4005-f424-05cac49ded73"
      },
      "source": [
        "plt.scatter(train.ENGINESIZE, train.CO2EMISSIONS,  color='blue')\n",
        "plt.xlabel(\"Engine size\")\n",
        "plt.ylabel(\"Emission\")\n",
        "plt.show()"
      ],
      "execution_count": null,
      "outputs": [
        {
          "output_type": "display_data",
          "data": {
            "image/png": "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\n",
            "text/plain": [
              "<Figure size 432x288 with 1 Axes>"
            ]
          },
          "metadata": {
            "tags": [],
            "needs_background": "light"
          }
        }
      ]
    },
    {
      "cell_type": "markdown",
      "metadata": {
        "button": false,
        "new_sheet": false,
        "run_control": {
          "read_only": false
        },
        "id": "iyEUpACaBO93"
      },
      "source": [
        "#### Modeling\n",
        "\n",
        "Using sklearn package to model data.\n"
      ]
    },
    {
      "cell_type": "code",
      "metadata": {
        "button": false,
        "new_sheet": false,
        "run_control": {
          "read_only": false
        },
        "colab": {
          "base_uri": "https://localhost:8080/"
        },
        "id": "B2hFY15UBO93",
        "outputId": "3b8a7a53-16bc-4a3c-8a0b-6da028c20764"
      },
      "source": [
        "from sklearn import linear_model\n",
        "regr = linear_model.LinearRegression()\n",
        "train_x = np.asanyarray(train[['ENGINESIZE']])\n",
        "train_y = np.asanyarray(train[['CO2EMISSIONS']])\n",
        "regr.fit (train_x, train_y)\n",
        "# The coefficients\n",
        "print ('Coefficients: ', regr.coef_)\n",
        "print ('Intercept: ',regr.intercept_)"
      ],
      "execution_count": null,
      "outputs": [
        {
          "output_type": "stream",
          "text": [
            "Coefficients:  [[39.26775758]]\n",
            "Intercept:  [125.57895442]\n"
          ],
          "name": "stdout"
        }
      ]
    },
    {
      "cell_type": "markdown",
      "metadata": {
        "id": "mxkz96M5BO94"
      },
      "source": [
        "As mentioned before, **Coefficient** and **Intercept** in the simple linear regression, are the parameters of the fit line.\n",
        "Given that it is a simple linear regression, with only 2 parameters, and knowing that the parameters are the intercept and slope of the line, sklearn can estimate them directly from our data.\n",
        "Notice that all of the data must be available to traverse and calculate the parameters.\n"
      ]
    },
    {
      "cell_type": "markdown",
      "metadata": {
        "button": false,
        "new_sheet": false,
        "run_control": {
          "read_only": false
        },
        "id": "I27ZZNv5BO94"
      },
      "source": [
        "#### Plot outputs\n"
      ]
    },
    {
      "cell_type": "markdown",
      "metadata": {
        "id": "MG9C9qadBO94"
      },
      "source": [
        "We can plot the fit line over the data:\n"
      ]
    },
    {
      "cell_type": "code",
      "metadata": {
        "button": false,
        "new_sheet": false,
        "run_control": {
          "read_only": false
        },
        "colab": {
          "base_uri": "https://localhost:8080/",
          "height": 298
        },
        "id": "yOWYQbPmBO94",
        "outputId": "a8f667c5-1a64-46d8-8264-b14398159fea"
      },
      "source": [
        "plt.scatter(train.ENGINESIZE, train.CO2EMISSIONS,  color='blue')\n",
        "plt.plot(train_x, regr.coef_[0][0]*train_x + regr.intercept_[0],color='red')\n",
        "plt.xlabel(\"Engine size\")\n",
        "plt.ylabel(\"Emission\")"
      ],
      "execution_count": null,
      "outputs": [
        {
          "output_type": "execute_result",
          "data": {
            "text/plain": [
              "Text(0, 0.5, 'Emission')"
            ]
          },
          "metadata": {
            "tags": []
          },
          "execution_count": 32
        },
        {
          "output_type": "display_data",
          "data": {
            "image/png": "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\n",
            "text/plain": [
              "<Figure size 432x288 with 1 Axes>"
            ]
          },
          "metadata": {
            "tags": [],
            "needs_background": "light"
          }
        }
      ]
    },
    {
      "cell_type": "markdown",
      "metadata": {
        "button": false,
        "new_sheet": false,
        "run_control": {
          "read_only": false
        },
        "id": "fhy5RlWPBO94"
      },
      "source": [
        "#### Evaluation\n",
        "\n",
        "We compare the actual values and predicted values to calculate the accuracy of a regression model. Evaluation metrics provide a key role in the development of a model, as it provides insight to areas that require improvement.\n",
        "\n",
        "There are different model evaluation metrics, lets use MSE here to calculate the accuracy of our model based on the test set:\n",
        "\n",
        "*   Mean Absolute Error: It is the mean of the absolute value of the errors. This is the easiest of the metrics to understand since it’s just average error.\n",
        "\n",
        "*   Mean Squared Error (MSE): Mean Squared Error (MSE) is the mean of the squared error. It’s more popular than Mean Absolute Error because the focus is geared more towards large errors. This is due to the squared term exponentially increasing larger errors in comparison to smaller ones.\n",
        "\n",
        "*   Root Mean Squared Error (RMSE).\n",
        "\n",
        "*   R-squared is not an error, but rather a popular metric to measure the performance of your regression model. It represents how close the data points are to the fitted regression line. The higher the R-squared value, the better the model fits your data. The best possible score is 1.0 and it can be negative (because the model can be arbitrarily worse).\n"
      ]
    },
    {
      "cell_type": "code",
      "metadata": {
        "button": false,
        "new_sheet": false,
        "run_control": {
          "read_only": false
        },
        "scrolled": true,
        "colab": {
          "base_uri": "https://localhost:8080/"
        },
        "id": "JSNY-wKwBO95",
        "outputId": "505523c9-9694-4fa6-b6b0-98d18128ca21"
      },
      "source": [
        "from sklearn.metrics import r2_score\n",
        "\n",
        "test_x = np.asanyarray(test[['ENGINESIZE']])\n",
        "test_y = np.asanyarray(test[['CO2EMISSIONS']])\n",
        "test_y_ = regr.predict(test_x)\n",
        "\n",
        "print(\"Mean absolute error: %.2f\" % np.mean(np.absolute(test_y_ - test_y)))\n",
        "print(\"Residual sum of squares (RMSE): %.2f\" % np.sqrt(np.mean((test_y_ - test_y) ** 2)))\n",
        "print(\"R2-score: %.2f\" % r2_score(test_y , test_y_) )"
      ],
      "execution_count": null,
      "outputs": [
        {
          "output_type": "stream",
          "text": [
            "Mean absolute error: 24.76\n",
            "Residual sum of squares (RMSE): 33.08\n",
            "R2-score: 0.72\n"
          ],
          "name": "stdout"
        }
      ]
    },
    {
      "cell_type": "markdown",
      "metadata": {
        "button": false,
        "new_sheet": false,
        "run_control": {
          "read_only": false
        },
        "id": "fbePam_9BO95"
      },
      "source": [
        "<h2>Want to learn more?</h2>\n",
        "\n",
        "IBM SPSS Modeler is a comprehensive analytics platform that has many machine learning algorithms. It has been designed to bring predictive intelligence to decisions made by individuals, by groups, by systems – by your enterprise as a whole. A free trial is available through this course, available here: <a href=\"https://www.ibm.com/analytics/spss-statistics-software?utm_medium=Exinfluencer&utm_source=Exinfluencer&utm_content=000026UJ&utm_term=10006555&utm_id=NA-SkillsNetwork-Channel-SkillsNetworkCoursesIBMDeveloperSkillsNetworkML0101ENSkillsNetwork20718538-2021-01-01\">SPSS Modeler</a>\n",
        "\n",
        "Also, you can use Watson Studio to run these notebooks faster with bigger datasets. Watson Studio is IBM's leading cloud solution for data scientists, built by data scientists. With Jupyter notebooks, RStudio, Apache Spark and popular libraries pre-packaged in the cloud, Watson Studio enables data scientists to collaborate on their projects without having to install anything. Join the fast-growing community of Watson Studio users today with a free account at <a href=\"https://www.ibm.com/cloud/watson-studio?utm_medium=Exinfluencer&utm_source=Exinfluencer&utm_content=000026UJ&utm_term=10006555&utm_id=NA-SkillsNetwork-Channel-SkillsNetworkCoursesIBMDeveloperSkillsNetworkML0101ENSkillsNetwork20718538-2021-01-01\">Watson Studio</a>\n"
      ]
    },
    {
      "cell_type": "markdown",
      "metadata": {
        "id": "EoyXeO4ZBO95"
      },
      "source": [
        "### Thank you for completing this lab!\n",
        "\n",
        "## Author\n",
        "\n",
        "Saeed Aghabozorgi\n",
        "\n",
        "### Other Contributors\n",
        "\n",
        "<a href=\"https://www.linkedin.com/in/joseph-s-50398b136/?utm_medium=Exinfluencer&utm_source=Exinfluencer&utm_content=000026UJ&utm_term=10006555&utm_id=NA-SkillsNetwork-Channel-SkillsNetworkCoursesIBMDeveloperSkillsNetworkML0101ENSkillsNetwork20718538-2021-01-01\" target=\"_blank\">Joseph Santarcangelo</a>\n",
        "\n",
        "## Change Log\n",
        "\n",
        "|  Date (YYYY-MM-DD) |  Version | Changed By  |  Change Description |\n",
        "|---|---|---|---|\n",
        "| 2020-11-03 | 2.1  | Lakshmi Holla  |  Changed URL of the csv |\n",
        "| 2020-08-27  | 2.0  | Lavanya  |  Moved lab to course repo in GitLab |\n",
        "|   |   |   |   |\n",
        "|   |   |   |   |\n",
        "\n",
        "## <h3 align=\"center\"> © IBM Corporation 2020. All rights reserved. <h3/>\n"
      ]
    }
  ]
}
